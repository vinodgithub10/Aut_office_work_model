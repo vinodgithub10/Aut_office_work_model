{
 "cells": [
  {
   "cell_type": "code",
   "execution_count": 67,
   "id": "3bc8720f",
   "metadata": {},
   "outputs": [],
   "source": [
    "import numpy as np\n",
    "import pandas as pd\n",
    "import time\n",
    "from bs4 import BeautifulSoup\n",
    "from selenium import webdriver\n",
    "from selenium.webdriver.support.ui import WebDriverWait\n",
    "from selenium.webdriver.common.by import By\n",
    "from selenium.webdriver.support import expected_conditions as EC"
   ]
  },
  {
   "cell_type": "code",
   "execution_count": 68,
   "id": "2d49ac6a",
   "metadata": {},
   "outputs": [],
   "source": [
    "driver = webdriver.Chrome()"
   ]
  },
  {
   "cell_type": "code",
   "execution_count": 69,
   "id": "e7a3e389",
   "metadata": {},
   "outputs": [],
   "source": [
    "def extract_text(url,part_no):\n",
    "    \n",
    "    driver.get(url)\n",
    "    time.sleep(10)\n",
    "    \n",
    "    \n",
    "    content = driver.page_source\n",
    "    soup = BeautifulSoup(content)\n",
    "    \n",
    "\n",
    "    \n",
    "    brand=soup.find('a',href=True, attrs={'class':'add class'})\n",
    "    try:\n",
    "        if brand.text:\n",
    "            brand=brand.text[1:-1]\n",
    "        else:\n",
    "            brand=brand.get(\"href\").split(\"-\")[-1][:-1]\n",
    "    except:\n",
    "        print(\"error in brand\")\n",
    "    \n",
    "  \n",
    "    \n",
    "    desc=soup.find('h2', attrs={'class':'add class'})\n",
    "    desc=desc.text[1:-1]\n",
    "\n",
    "    \n",
    "    lol=[]\n",
    "    for a in soup.findAll('a',href=True, attrs={'class':'add class'}):\n",
    "        lol.append(a)\n",
    "    try:\n",
    "        category = lol[3].text[1:-1]\n",
    "    except:\n",
    "        category = None\n",
    "    try:\n",
    "        sub_category=lol[4].text[1:-1]\n",
    "    except:\n",
    "        sub_category=None\n",
    "    \n",
    "    price=soup.find('span', attrs={'class':'add class'})\n",
    "    try:\n",
    "        price=price.text[6:]\n",
    "        price=price.split(\",\")\n",
    "        pric=\"\"\n",
    "        for i in price:\n",
    "            pric=pric+i\n",
    "        price=int(pric)\n",
    "    except:\n",
    "        price = None\n",
    "        \n",
    "    \n",
    "    \n",
    "    com_len=[]\n",
    "    for a in soup.findAll('li', attrs={'class':'add class'}):\n",
    "        com_len.append(a.text[1:-1])\n",
    "        \n",
    "    if len(com_len)==0:\n",
    "        print(\"no data\")\n",
    "        return\n",
    "\n",
    "    df=[]\n",
    "\n",
    "    \n",
    "    for i in range(len(com_len)):\n",
    "        make_name_li = com_len[i].split(\" \")[:-1]\n",
    "        make_name=\" \".join(make_name_li)\n",
    "        make_len = int(com_len[i].split(\" \")[-1][1:-1])\n",
    "        \n",
    "        if i>4 and i!=8 and i!=11 and i!=14 and i!=17 and i!=20:\n",
    "            driver.find_element(By.XPATH, '//button[@class=\"compatibility-nav__arrow compatibility-nav__arrow--next ng-star-inserted\"]').click()\n",
    "            time.sleep(1)\n",
    "        \n",
    "        button=WebDriverWait(driver, 1).until(EC.element_to_be_clickable((By.XPATH, f\"//li[contains(text(),'{com_len[i]}')]\")))\n",
    "        button.click()\n",
    "        time.sleep(2)\n",
    "        \n",
    "        \n",
    "        if make_len>10:\n",
    "            WebDriverWait(driver, 1).until(EC.element_to_be_clickable((By.CSS_SELECTOR, \"span.btn.btn-sm\"))).click()\n",
    "        content = driver.page_source\n",
    "        soup = BeautifulSoup(content)\n",
    "        time.sleep(2)\n",
    "        \n",
    "\n",
    "        li_model=[]\n",
    "        for a in soup.findAll('div', attrs={\"data-head-title\":\"M\"}):\n",
    "            li_model.append(a.text[1:-1])\n",
    "\n",
    "        li_year=[]\n",
    "        for a in soup.findAll('div', attrs={\"data-head-title\":\"Y\"}):\n",
    "            li_year.append(a.text[1:-1])\n",
    "\n",
    "        li_engine=[]\n",
    "        for a in soup.findAll('div', attrs={\"data-head-title\":\"E\"}):\n",
    "            li_engine.append(a.text[1:-1])\n",
    "\n",
    "        li_power=[]\n",
    "        for a in soup.findAll('div', attrs={\"data-head-title\":\"P\"}):\n",
    "            li_power.append(a.text[1:-1])\n",
    "\n",
    "        li_fuel=[]\n",
    "        for a in soup.findAll('div', attrs={\"data-head-title\":\"F\"}):\n",
    "            li_fuel.append(a.text[1:-1])\n",
    "\n",
    "        li_engine_type=[]\n",
    "        for a in soup.findAll('div', attrs={\"data-head-title\":\"E\"}):\n",
    "            li_engine_type.append(a.text[1:-1])\n",
    "\n",
    "        \n",
    "        for i in range(len(li_model)):\n",
    "            df.append([part_no,brand,\"\",desc,price,category,sub_category,\"\",make_name,li_model[i],li_year[i],li_engine[i],li_power[i],li_fuel[i],li_engine_type[i]])\n",
    "\n",
    "        \n",
    "    return df"
   ]
  },
  {
   "cell_type": "code",
   "execution_count": null,
   "id": "9c181616",
   "metadata": {},
   "outputs": [],
   "source": [
    "lol=[\"\"\" add the numbers\n",
    "\"\"\"]\n",
    "\n",
    "skus=lol[0].split()\n",
    "len(skus)"
   ]
  },
  {
   "cell_type": "code",
   "execution_count": null,
   "id": "d1716b55",
   "metadata": {},
   "outputs": [],
   "source": [
    "def extract_sku(url):\n",
    "    li=[]\n",
    "    for i in url:\n",
    "        li.append([\"add url\"+i,i])\n",
    "    return li\n",
    "uri=extract_sku(skus)\n",
    "len(uri)"
   ]
  },
  {
   "cell_type": "code",
   "execution_count": 72,
   "id": "07cf91f4",
   "metadata": {},
   "outputs": [],
   "source": [
    "def extract_url(url):\n",
    "    \n",
    "    driver.get(url)\n",
    "    time.sleep(8)\n",
    "    \n",
    "    content = driver.page_source\n",
    "    soup = BeautifulSoup(content)\n",
    "    \n",
    "    li=[]\n",
    "    a=soup.findAll('a',href=True,attrs={'class':'add class'})\n",
    "    try:\n",
    "        a=a[0].get(\"href\")\n",
    "        li.append(\"add url search\"+a)\n",
    "    except:\n",
    "        print(\"no url\")\n",
    "    return li"
   ]
  },
  {
   "cell_type": "code",
   "execution_count": 73,
   "id": "3345cbc8",
   "metadata": {},
   "outputs": [],
   "source": [
    "li=[]"
   ]
  },
  {
   "cell_type": "code",
   "execution_count": null,
   "id": "0477f5ff",
   "metadata": {},
   "outputs": [],
   "source": [
    "for i in range(len(uri)):\n",
    "    a=extract_url(uri[i][0])\n",
    "    for j in a:\n",
    "        li.append([j,uri[i][1]])\n",
    "    print(i)"
   ]
  },
  {
   "cell_type": "code",
   "execution_count": null,
   "id": "3dbfd4f3",
   "metadata": {},
   "outputs": [],
   "source": [
    "len(li)"
   ]
  },
  {
   "cell_type": "code",
   "execution_count": 76,
   "id": "9c5eec96",
   "metadata": {},
   "outputs": [
    {
     "data": {
      "text/html": [
       "<div>\n",
       "<style scoped>\n",
       "    .dataframe tbody tr th:only-of-type {\n",
       "        vertical-align: middle;\n",
       "    }\n",
       "\n",
       "    .dataframe tbody tr th {\n",
       "        vertical-align: top;\n",
       "    }\n",
       "\n",
       "    .dataframe thead th {\n",
       "        text-align: right;\n",
       "    }\n",
       "</style>\n",
       "<table border=\"1\" class=\"dataframe\">\n",
       "  <thead>\n",
       "    <tr style=\"text-align: right;\">\n",
       "      <th></th>\n",
       "    </tr>\n",
       "  </thead>\n",
       "  <tbody>\n",
       "  </tbody>\n",
       "</table>\n",
       "</div>"
      ],
      "text/plain": [
       "Empty DataFrame\n",
       "Columns: []\n",
       "Index: []"
      ]
     },
     "execution_count": 76,
     "metadata": {},
     "output_type": "execute_result"
    }
   ],
   "source": [
    "df1 = pd.DataFrame()\n",
    "df1"
   ]
  },
  {
   "cell_type": "code",
   "execution_count": null,
   "id": "28baf519-c33b-473d-a508-8d4182a4b300",
   "metadata": {},
   "outputs": [],
   "source": [
    "for i in range(len(li)):\n",
    "    l=extract_text(li[i][0],li[i][1])\n",
    "    df2=pd.DataFrame(l)\n",
    "    df1=pd.concat([df1, df2])\n",
    "    print(i)"
   ]
  },
  {
   "cell_type": "code",
   "execution_count": null,
   "id": "cb56d340-286a-42dc-b57e-1a1a0e7cc303",
   "metadata": {},
   "outputs": [],
   "source": [
    "df"
   ]
  },
  {
   "cell_type": "markdown",
   "id": "323c6df6-fe6b-47e1-b182-db8a613f79c8",
   "metadata": {},
   "source": [
    "### save into excel formate\n"
   ]
  },
  {
   "cell_type": "code",
   "execution_count": 66,
   "id": "e1fbd722",
   "metadata": {},
   "outputs": [],
   "source": [
    "df1.to_excel(\"mfile.xlsx\",index=False)"
   ]
  },
  {
   "cell_type": "code",
   "execution_count": 1,
   "id": "9a1caad9",
   "metadata": {},
   "outputs": [
    {
     "name": "stdout",
     "output_type": "stream",
     "text": [
      "C:\\Users\\VINOD NAIR\\image_work\\uploading_work\n"
     ]
    }
   ],
   "source": [
    "from pathlib import Path\n",
    "print(Path.cwd())\n"
   ]
  },
  {
   "cell_type": "code",
   "execution_count": null,
   "id": "736c005d-4f3f-4c5e-a2d5-de688dedb29f",
   "metadata": {},
   "outputs": [],
   "source": []
  }
 ],
 "metadata": {
  "kernelspec": {
   "display_name": "Python 3 (ipykernel)",
   "language": "python",
   "name": "python3"
  },
  "language_info": {
   "codemirror_mode": {
    "name": "ipython",
    "version": 3
   },
   "file_extension": ".py",
   "mimetype": "text/x-python",
   "name": "python",
   "nbconvert_exporter": "python",
   "pygments_lexer": "ipython3",
   "version": "3.11.7"
  }
 },
 "nbformat": 4,
 "nbformat_minor": 5
}
