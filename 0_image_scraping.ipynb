{
 "cells": [
  {
   "cell_type": "code",
   "execution_count": 84,
   "id": "1e476427",
   "metadata": {},
   "outputs": [],
   "source": [
    "import numpy as np\n",
    "import time\n",
    "import requests\n",
    "from io import BytesIO\n",
    "from PIL import Image\n",
    "from bs4 import BeautifulSoup\n",
    "from selenium import webdriver\n",
    "import pandas as pd\n",
    "from selenium.webdriver.support.ui import WebDriverWait\n",
    "from selenium.webdriver.common.by import By\n",
    "from selenium.webdriver.support import expected_conditions as EC"
   ]
  },
  {
   "cell_type": "code",
   "execution_count": 85,
   "id": "6e709471",
   "metadata": {},
   "outputs": [],
   "source": [
    "driver = webdriver.Chrome()"
   ]
  },
  {
   "cell_type": "code",
   "execution_count": 86,
   "id": "e979ab35",
   "metadata": {},
   "outputs": [],
   "source": [
    "def download_image(url, save_path):\n",
    "    response = requests.get(url)\n",
    "    \n",
    "    if response.status_code == 200:\n",
    "        \n",
    "        image = Image.open(BytesIO(response.content))\n",
    "        \n",
    "        image.save(save_path)\n",
    "        print(f\"Image downloaded and saved at: {save_path}\")\n",
    "    else:\n",
    "        print(f\"Failed to download image. Status code: {response.status_code}\")"
   ]
  },
  {
   "cell_type": "code",
   "execution_count": null,
   "id": "f36f6ddf-7515-42fd-b708-dfdba8c3aa34",
   "metadata": {},
   "outputs": [],
   "source": [
    "def extract_text(url,part_no):\n",
    "    \n",
    "    driver.get(url)\n",
    "    time.sleep(5)\n",
    "    \n",
    "    \n",
    "    content = driver.page_source\n",
    "    soup = BeautifulSoup(content)\n",
    "    li=[]\n",
    "    lol=soup.findAll('span', attrs={'class':'lazy-load-images thumbnail'})\n",
    "    for i in range(3):\n",
    "        try:\n",
    "            thumbnail_url=lol[i].picture.source.get('lazyload')\n",
    "            thubnail_number=thumbnail_url.split(\"/\")[-1]\n",
    "            url_img = \"add url number\"+thubnail_number\n",
    "            li.append([part_no,url_img])\n",
    "        except:\n",
    "            li.append([part_no,\"No Image\"])\n",
    "        saved_path=f\"download/{part_no}_{str(i)}.png\"\n",
    "        if li[0][1]!=\"No Image\":\n",
    "            download_image(url_img,saved_path)\n",
    "    return li"
   ]
  },
  {
   "cell_type": "code",
   "execution_count": 99,
   "id": "825bde24-db60-4e98-bd33-04d5a93a8c91",
   "metadata": {},
   "outputs": [],
   "source": [
    "lol=[\"\"\"  add scraping id \"\"\"]"
   ]
  },
  {
   "cell_type": "code",
   "execution_count": null,
   "id": "109c4807",
   "metadata": {},
   "outputs": [],
   "source": [
    "skus=lol[0].split('\\n')\n",
    "len(skus)"
   ]
  },
  {
   "cell_type": "code",
   "execution_count": null,
   "id": "6b85ba2b",
   "metadata": {
    "scrolled": true
   },
   "outputs": [],
   "source": [
    "skus"
   ]
  },
  {
   "cell_type": "code",
   "execution_count": 102,
   "id": "9c78b33f",
   "metadata": {},
   "outputs": [
    {
     "data": {
      "text/plain": [
       "940"
      ]
     },
     "execution_count": 102,
     "metadata": {},
     "output_type": "execute_result"
    }
   ],
   "source": [
    "def extract_sku(url):\n",
    "    li=[]\n",
    "    for i in url:\n",
    "        li.append([\"use link\"])\n",
    "    return li\n",
    "uri=extract_sku(skus)\n",
    "len(uri)"
   ]
  },
  {
   "cell_type": "code",
   "execution_count": 103,
   "id": "ba52d3fa",
   "metadata": {},
   "outputs": [],
   "source": [
    "def extract_url(url):\n",
    "    \n",
    "    driver.get(url)\n",
    "    time.sleep(4)\n",
    "    \n",
    "    content = driver.page_source\n",
    "    soup = BeautifulSoup(content)\n",
    "    \n",
    "    li=[]\n",
    "    a=soup.findAll('a',href=True,attrs={'class':'product-item-list__images'})\n",
    "    try:\n",
    "        a=a[0].get(\"href\")\n",
    "        li.append(\"use link\"+a)\n",
    "    except:\n",
    "        print(\"no url\")\n",
    "    return li"
   ]
  },
  {
   "cell_type": "code",
   "execution_count": 104,
   "id": "01d16732",
   "metadata": {},
   "outputs": [],
   "source": [
    "li=[]"
   ]
  },
  {
   "cell_type": "code",
   "execution_count": null,
   "id": "dc0c0fe7",
   "metadata": {},
   "outputs": [],
   "source": [
    "for i in range(len(uri)):\n",
    "    a=extract_url(uri[i][0])\n",
    "    for j in a:\n",
    "        li.append([j,uri[i][1]])\n",
    "    print(i)"
   ]
  },
  {
   "cell_type": "code",
   "execution_count": null,
   "id": "ff5225ed",
   "metadata": {},
   "outputs": [],
   "source": [
    "len(li)"
   ]
  },
  {
   "cell_type": "code",
   "execution_count": 107,
   "id": "1a18fcc6",
   "metadata": {},
   "outputs": [
    {
     "data": {
      "text/html": [
       "<div>\n",
       "<style scoped>\n",
       "    .dataframe tbody tr th:only-of-type {\n",
       "        vertical-align: middle;\n",
       "    }\n",
       "\n",
       "    .dataframe tbody tr th {\n",
       "        vertical-align: top;\n",
       "    }\n",
       "\n",
       "    .dataframe thead th {\n",
       "        text-align: right;\n",
       "    }\n",
       "</style>\n",
       "<table border=\"1\" class=\"dataframe\">\n",
       "  <thead>\n",
       "    <tr style=\"text-align: right;\">\n",
       "      <th></th>\n",
       "    </tr>\n",
       "  </thead>\n",
       "  <tbody>\n",
       "  </tbody>\n",
       "</table>\n",
       "</div>"
      ],
      "text/plain": [
       "Empty DataFrame\n",
       "Columns: []\n",
       "Index: []"
      ]
     },
     "execution_count": 107,
     "metadata": {},
     "output_type": "execute_result"
    }
   ],
   "source": [
    "df1 = pd.DataFrame()\n",
    "df1"
   ]
  },
  {
   "cell_type": "code",
   "execution_count": null,
   "id": "9f52483f",
   "metadata": {},
   "outputs": [],
   "source": [
    "for i in range(len(li)):\n",
    "    l=extract_text(li[i][0],li[i][1])\n",
    "    df2=pd.DataFrame(l)\n",
    "    df1=pd.concat([df1, df2])\n",
    "    print(i)"
   ]
  },
  {
   "cell_type": "code",
   "execution_count": null,
   "id": "3f0d59b3",
   "metadata": {},
   "outputs": [],
   "source": [
    "df1"
   ]
  },
  {
   "cell_type": "code",
   "execution_count": 57,
   "id": "f38b5fbb",
   "metadata": {},
   "outputs": [],
   "source": [
    "df1.to_excel(\"file.xlsx\",index=False)"
   ]
  },
  {
   "cell_type": "code",
   "execution_count": null,
   "id": "529ccab1",
   "metadata": {},
   "outputs": [],
   "source": []
  }
 ],
 "metadata": {
  "kernelspec": {
   "display_name": "Python 3 (ipykernel)",
   "language": "python",
   "name": "python3"
  },
  "language_info": {
   "codemirror_mode": {
    "name": "ipython",
    "version": 3
   },
   "file_extension": ".py",
   "mimetype": "text/x-python",
   "name": "python",
   "nbconvert_exporter": "python",
   "pygments_lexer": "ipython3",
   "version": "3.11.7"
  }
 },
 "nbformat": 4,
 "nbformat_minor": 5
}
